{
  "cells": [
    {
      "cell_type": "markdown",
      "metadata": {
        "id": "6nnAhuealljs"
      },
      "source": [
        "# **MACHINE LEARNING MODELS FOR CAR EVALUATION DATASET**"
      ]
    },
    {
      "cell_type": "markdown",
      "metadata": {
        "id": "LfqKwEB1VQj2"
      },
      "source": [
        "Importing modules"
      ]
    },
    {
      "cell_type": "code",
      "execution_count": null,
      "metadata": {
        "collapsed": true,
        "id": "3tAiQMyC1xJh"
      },
      "outputs": [],
      "source": [
        "import numpy as np\n",
        "import pandas as pd\n",
        "import matplotlib.pyplot as plt\n",
        "import seaborn as sns\n",
        "%matplotlib inline"
      ]
    },
    {
      "cell_type": "markdown",
      "metadata": {
        "id": "4CZce7fim163"
      },
      "source": [
        "Read csv file contaning dataset"
      ]
    },
    {
      "cell_type": "code",
      "execution_count": null,
      "metadata": {
        "collapsed": true,
        "id": "zst7fzxX1xJn"
      },
      "outputs": [],
      "source": [
        "csv_filename=\"car.data\"\n",
        "data=pd.read_csv(csv_filename,\n",
        "              names=[\"Buying\", \"Maintenance\" , \"Doors\" , \"Persons\" , \"Lug-Boot\" , \"Safety\", \"Class\"])"
      ]
    },
    {
      "cell_type": "markdown",
      "metadata": {
        "id": "w7FTRRpd1xJo"
      },
      "source": [
        "Study Dataset"
      ]
    },
    {
      "cell_type": "code",
      "execution_count": null,
      "metadata": {
        "colab": {
          "base_uri": "https://localhost:8080/",
          "height": 206
        },
        "id": "uS5EBqkW1xJo",
        "outputId": "71e47515-2185-4b33-9e58-a69eadc8a93a"
      },
      "outputs": [
        {
          "data": {
            "text/html": [
              "<div>\n",
              "<style scoped>\n",
              "    .dataframe tbody tr th:only-of-type {\n",
              "        vertical-align: middle;\n",
              "    }\n",
              "\n",
              "    .dataframe tbody tr th {\n",
              "        vertical-align: top;\n",
              "    }\n",
              "\n",
              "    .dataframe thead th {\n",
              "        text-align: right;\n",
              "    }\n",
              "</style>\n",
              "<table border=\"1\" class=\"dataframe\">\n",
              "  <thead>\n",
              "    <tr style=\"text-align: right;\">\n",
              "      <th></th>\n",
              "      <th>Buying</th>\n",
              "      <th>Maintenance</th>\n",
              "      <th>Doors</th>\n",
              "      <th>Persons</th>\n",
              "      <th>Lug-Boot</th>\n",
              "      <th>Safety</th>\n",
              "      <th>Class</th>\n",
              "    </tr>\n",
              "  </thead>\n",
              "  <tbody>\n",
              "    <tr>\n",
              "      <th>0</th>\n",
              "      <td>vhigh</td>\n",
              "      <td>vhigh</td>\n",
              "      <td>2</td>\n",
              "      <td>2</td>\n",
              "      <td>small</td>\n",
              "      <td>low</td>\n",
              "      <td>unacc</td>\n",
              "    </tr>\n",
              "    <tr>\n",
              "      <th>1</th>\n",
              "      <td>vhigh</td>\n",
              "      <td>vhigh</td>\n",
              "      <td>2</td>\n",
              "      <td>2</td>\n",
              "      <td>small</td>\n",
              "      <td>med</td>\n",
              "      <td>unacc</td>\n",
              "    </tr>\n",
              "    <tr>\n",
              "      <th>2</th>\n",
              "      <td>vhigh</td>\n",
              "      <td>vhigh</td>\n",
              "      <td>2</td>\n",
              "      <td>2</td>\n",
              "      <td>small</td>\n",
              "      <td>high</td>\n",
              "      <td>unacc</td>\n",
              "    </tr>\n",
              "    <tr>\n",
              "      <th>3</th>\n",
              "      <td>vhigh</td>\n",
              "      <td>vhigh</td>\n",
              "      <td>2</td>\n",
              "      <td>2</td>\n",
              "      <td>med</td>\n",
              "      <td>low</td>\n",
              "      <td>unacc</td>\n",
              "    </tr>\n",
              "    <tr>\n",
              "      <th>4</th>\n",
              "      <td>vhigh</td>\n",
              "      <td>vhigh</td>\n",
              "      <td>2</td>\n",
              "      <td>2</td>\n",
              "      <td>med</td>\n",
              "      <td>med</td>\n",
              "      <td>unacc</td>\n",
              "    </tr>\n",
              "  </tbody>\n",
              "</table>\n",
              "</div>"
            ],
            "text/plain": [
              "  Buying Maintenance Doors Persons Lug-Boot Safety  Class\n",
              "0  vhigh       vhigh     2       2    small    low  unacc\n",
              "1  vhigh       vhigh     2       2    small    med  unacc\n",
              "2  vhigh       vhigh     2       2    small   high  unacc\n",
              "3  vhigh       vhigh     2       2      med    low  unacc\n",
              "4  vhigh       vhigh     2       2      med    med  unacc"
            ]
          },
          "execution_count": 4,
          "metadata": {},
          "output_type": "execute_result"
        }
      ],
      "source": [
        "data.head()"
      ]
    },
    {
      "cell_type": "markdown",
      "metadata": {
        "id": "Rb_FT_Lz1xJq"
      },
      "source": [
        "Check for null values in Dataset"
      ]
    },
    {
      "cell_type": "code",
      "execution_count": null,
      "metadata": {
        "colab": {
          "base_uri": "https://localhost:8080/"
        },
        "id": "G8MIzRPn1xJq",
        "outputId": "fdcb9639-4526-4bd7-b760-2403faa71a75"
      },
      "outputs": [
        {
          "name": "stdout",
          "output_type": "stream",
          "text": [
            "<class 'pandas.core.frame.DataFrame'>\n",
            "RangeIndex: 1728 entries, 0 to 1727\n",
            "Data columns (total 7 columns):\n",
            " #   Column       Non-Null Count  Dtype \n",
            "---  ------       --------------  ----- \n",
            " 0   Buying       1728 non-null   object\n",
            " 1   Maintenance  1728 non-null   object\n",
            " 2   Doors        1728 non-null   object\n",
            " 3   Persons      1728 non-null   object\n",
            " 4   Lug-Boot     1728 non-null   object\n",
            " 5   Safety       1728 non-null   object\n",
            " 6   Class        1728 non-null   object\n",
            "dtypes: object(7)\n",
            "memory usage: 94.6+ KB\n"
          ]
        }
      ],
      "source": [
        "data.info()"
      ]
    },
    {
      "cell_type": "markdown",
      "metadata": {
        "id": "jKWGpgbP1xJr"
      },
      "source": [
        "We have all categorical columns, so we check unique values for each column."
      ]
    },
    {
      "cell_type": "code",
      "execution_count": null,
      "metadata": {
        "colab": {
          "base_uri": "https://localhost:8080/"
        },
        "id": "aQ1Ym8Jin8Fc",
        "outputId": "c6dbb653-a298-4fc9-e936-86bfca3a2f29"
      },
      "outputs": [
        {
          "name": "stdout",
          "output_type": "stream",
          "text": [
            "Index(['Buying', 'Maintenance', 'Doors', 'Persons', 'Lug-Boot', 'Safety',\n",
            "       'Class'],\n",
            "      dtype='object')\n"
          ]
        }
      ],
      "source": [
        "print(data.columns)"
      ]
    },
    {
      "cell_type": "code",
      "execution_count": null,
      "metadata": {
        "colab": {
          "base_uri": "https://localhost:8080/"
        },
        "id": "Yjwo2TC-1xJs",
        "outputId": "4354040f-e698-4328-d1d1-1a72cb290cd9"
      },
      "outputs": [
        {
          "name": "stdout",
          "output_type": "stream",
          "text": [
            "Count \t  Unique Values\n",
            "4 \t ['vhigh' 'high' 'med' 'low']\n",
            "4 \t ['vhigh' 'high' 'med' 'low']\n",
            "4 \t ['2' '3' '4' '5more']\n",
            "3 \t ['2' '4' 'more']\n",
            "3 \t ['small' 'med' 'big']\n",
            "3 \t ['low' 'med' 'high']\n",
            "4 \t ['unacc' 'acc' 'vgood' 'good']\n"
          ]
        }
      ],
      "source": [
        "print(\"Count \\t  Unique Values\")\n",
        "for i in data.columns:\n",
        "    print(data[i].nunique(),\"\\t\",data[i].unique())\n"
      ]
    },
    {
      "cell_type": "markdown",
      "metadata": {
        "id": "dU8RqCfb1xJt"
      },
      "source": [
        "Check distrubution of different unique categories in each column"
      ]
    },
    {
      "cell_type": "code",
      "execution_count": null,
      "metadata": {
        "colab": {
          "base_uri": "https://localhost:8080/"
        },
        "id": "GVq1AFm_1xJt",
        "outputId": "393eebe5-28ad-4c77-81d7-c6ea407cef49"
      },
      "outputs": [
        {
          "name": "stdout",
          "output_type": "stream",
          "text": [
            "med      432\n",
            "low      432\n",
            "high     432\n",
            "vhigh    432\n",
            "Name: Buying, dtype: int64\n",
            "\n",
            "med      432\n",
            "low      432\n",
            "high     432\n",
            "vhigh    432\n",
            "Name: Maintenance, dtype: int64\n",
            "\n",
            "4        432\n",
            "5more    432\n",
            "2        432\n",
            "3        432\n",
            "Name: Doors, dtype: int64\n",
            "\n",
            "4       576\n",
            "2       576\n",
            "more    576\n",
            "Name: Persons, dtype: int64\n",
            "\n",
            "med      576\n",
            "big      576\n",
            "small    576\n",
            "Name: Lug-Boot, dtype: int64\n",
            "\n",
            "med     576\n",
            "low     576\n",
            "high    576\n",
            "Name: Safety, dtype: int64\n",
            "\n",
            "unacc    1210\n",
            "acc       384\n",
            "good       69\n",
            "vgood      65\n",
            "Name: Class, dtype: int64\n",
            "\n"
          ]
        }
      ],
      "source": [
        "for i in data.columns:\n",
        "    print(data[i].value_counts())\n",
        "    print()"
      ]
    },
    {
      "cell_type": "markdown",
      "metadata": {
        "id": "3HrH5vIb1xJu"
      },
      "source": [
        "We now see that all columns except column \"Class\" has equal distribution. Countplot of column \"Class\" is as follows-"
      ]
    },
    {
      "cell_type": "code",
      "execution_count": null,
      "metadata": {
        "colab": {
          "base_uri": "https://localhost:8080/",
          "height": 351
        },
        "id": "ZYDRXOMF1xJv",
        "outputId": "9204977a-140c-4ef7-d7e7-22c9d5af1beb"
      },
      "outputs": [
        {
          "name": "stderr",
          "output_type": "stream",
          "text": [
            "/usr/local/lib/python3.7/dist-packages/seaborn/_decorators.py:43: FutureWarning: Pass the following variable as a keyword arg: x. From version 0.12, the only valid positional argument will be `data`, and passing other arguments without an explicit keyword will result in an error or misinterpretation.\n",
            "  FutureWarning\n"
          ]
        },
        {
          "data": {
            "text/plain": [
              "<matplotlib.axes._subplots.AxesSubplot at 0x7f8ccc3b2410>"
            ]
          },
          "execution_count": 20,
          "metadata": {},
          "output_type": "execute_result"
        },
        {
          "data": {
            "image/png": "[encoded data removed]",
            "text/plain": [
              "<Figure size 432x288 with 1 Axes>"
            ]
          },
          "metadata": {
            "needs_background": "light"
          },
          "output_type": "display_data"
        }
      ],
      "source": [
        "sns.countplot(data['Class'])"
      ]
    },
    {
      "cell_type": "markdown",
      "metadata": {
        "id": "bvH-kPlH1xJv"
      },
      "source": [
        "Plotting how column \"Class\" is distributed alongside each feature"
      ]
    },
    {
      "cell_type": "code",
      "execution_count": null,
      "metadata": {
        "colab": {
          "base_uri": "https://localhost:8080/",
          "height": 1000
        },
        "id": "LIDJ1JIf1xJw",
        "outputId": "d757e0ff-5f4c-4c0c-8b1a-57c5246c88f8"
      },
      "outputs": [
        {
          "name": "stderr",
          "output_type": "stream",
          "text": [
            "/usr/local/lib/python3.7/dist-packages/seaborn/_decorators.py:43: FutureWarning: Pass the following variable as a keyword arg: x. From version 0.12, the only valid positional argument will be `data`, and passing other arguments without an explicit keyword will result in an error or misinterpretation.\n",
            "  FutureWarning\n",
            "/usr/local/lib/python3.7/dist-packages/seaborn/_decorators.py:43: FutureWarning: Pass the following variable as a keyword arg: x. From version 0.12, the only valid positional argument will be `data`, and passing other arguments without an explicit keyword will result in an error or misinterpretation.\n",
            "  FutureWarning\n",
            "/usr/local/lib/python3.7/dist-packages/seaborn/_decorators.py:43: FutureWarning: Pass the following variable as a keyword arg: x. From version 0.12, the only valid positional argument will be `data`, and passing other arguments without an explicit keyword will result in an error or misinterpretation.\n",
            "  FutureWarning\n",
            "/usr/local/lib/python3.7/dist-packages/seaborn/_decorators.py:43: FutureWarning: Pass the following variable as a keyword arg: x. From version 0.12, the only valid positional argument will be `data`, and passing other arguments without an explicit keyword will result in an error or misinterpretation.\n",
            "  FutureWarning\n",
            "/usr/local/lib/python3.7/dist-packages/seaborn/_decorators.py:43: FutureWarning: Pass the following variable as a keyword arg: x. From version 0.12, the only valid positional argument will be `data`, and passing other arguments without an explicit keyword will result in an error or misinterpretation.\n",
            "  FutureWarning\n",
            "/usr/local/lib/python3.7/dist-packages/seaborn/_decorators.py:43: FutureWarning: Pass the following variable as a keyword arg: x. From version 0.12, the only valid positional argument will be `data`, and passing other arguments without an explicit keyword will result in an error or misinterpretation.\n",
            "  FutureWarning\n"
          ]
        },
        {
          "data": {
            "image/png": "[encoded data removed]",
            "text/plain": [
              "<Figure size 360x360 with 1 Axes>"
            ]
          },
          "metadata": {
            "needs_background": "light"
          },
          "output_type": "display_data"
        },
        {
          "data": {
            "image/png": "[encoded data removed]",
            "text/plain": [
              "<Figure size 360x360 with 1 Axes>"
            ]
          },
          "metadata": {
            "needs_background": "light"
          },
          "output_type": "display_data"
        },
        {
          "data": {
            "image/png": "[encoded data removed]",
            "text/plain": [
              "<Figure size 360x360 with 1 Axes>"
            ]
          },
          "metadata": {
            "needs_background": "light"
          },
          "output_type": "display_data"
        },
        {
          "data": {
            "image/png": "[encoded data removed]",
            "text/plain": [
              "<Figure size 360x360 with 1 Axes>"
            ]
          },
          "metadata": {
            "needs_background": "light"
          },
          "output_type": "display_data"
        },
        {
          "data": {
            "image/png": "[encoded data removed]",
            "text/plain": [
              "<Figure size 360x360 with 1 Axes>"
            ]
          },
          "metadata": {
            "needs_background": "light"
          },
          "output_type": "display_data"
        },
        {
          "data": {
            "image/png": "[encoded data removed]",
            "text/plain": [
              "<Figure size 360x360 with 1 Axes>"
            ]
          },
          "metadata": {
            "needs_background": "light"
          },
          "output_type": "display_data"
        }
      ],
      "source": [
        "for i in data.columns[:-1]:\n",
        "    plt.figure(figsize=(5,5))\n",
        "    plt.title(\"For feature '%s'\"%i)\n",
        "    sns.countplot(data[i],hue=data['Class'])"
      ]
    },
    {
      "cell_type": "markdown",
      "metadata": {
        "id": "GQbC1zd3Vyxo"
      },
      "source": [
        "Performing Label Encoding"
      ]
    },
    {
      "cell_type": "code",
      "execution_count": null,
      "metadata": {
        "collapsed": true,
        "id": "hYEWeX8m1xJw"
      },
      "outputs": [],
      "source": [
        "from sklearn.preprocessing import LabelEncoder"
      ]
    },
    {
      "cell_type": "code",
      "execution_count": null,
      "metadata": {
        "collapsed": true,
        "id": "aKjvp5vZ1xJx"
      },
      "outputs": [],
      "source": [
        "le=LabelEncoder()"
      ]
    },
    {
      "cell_type": "code",
      "execution_count": null,
      "metadata": {
        "collapsed": true,
        "id": "0rQz4tUP1xJx"
      },
      "outputs": [],
      "source": [
        "for i in data.columns:\n",
        "    data[i]=le.fit_transform(data[i])"
      ]
    },
    {
      "cell_type": "code",
      "execution_count": null,
      "metadata": {
        "colab": {
          "base_uri": "https://localhost:8080/",
          "height": 206
        },
        "id": "cCJm8C9A1xJx",
        "outputId": "cd234a07-85d6-4e5e-f68d-c7c7586be5f2"
      },
      "outputs": [
        {
          "data": {
            "text/html": [
              "<div>\n",
              "<style scoped>\n",
              "    .dataframe tbody tr th:only-of-type {\n",
              "        vertical-align: middle;\n",
              "    }\n",
              "\n",
              "    .dataframe tbody tr th {\n",
              "        vertical-align: top;\n",
              "    }\n",
              "\n",
              "    .dataframe thead th {\n",
              "        text-align: right;\n",
              "    }\n",
              "</style>\n",
              "<table border=\"1\" class=\"dataframe\">\n",
              "  <thead>\n",
              "    <tr style=\"text-align: right;\">\n",
              "      <th></th>\n",
              "      <th>Buying</th>\n",
              "      <th>Maintenance</th>\n",
              "      <th>Doors</th>\n",
              "      <th>Persons</th>\n",
              "      <th>Lug-Boot</th>\n",
              "      <th>Safety</th>\n",
              "      <th>Class</th>\n",
              "    </tr>\n",
              "  </thead>\n",
              "  <tbody>\n",
              "    <tr>\n",
              "      <th>0</th>\n",
              "      <td>3</td>\n",
              "      <td>3</td>\n",
              "      <td>0</td>\n",
              "      <td>0</td>\n",
              "      <td>2</td>\n",
              "      <td>1</td>\n",
              "      <td>2</td>\n",
              "    </tr>\n",
              "    <tr>\n",
              "      <th>1</th>\n",
              "      <td>3</td>\n",
              "      <td>3</td>\n",
              "      <td>0</td>\n",
              "      <td>0</td>\n",
              "      <td>2</td>\n",
              "      <td>2</td>\n",
              "      <td>2</td>\n",
              "    </tr>\n",
              "    <tr>\n",
              "      <th>2</th>\n",
              "      <td>3</td>\n",
              "      <td>3</td>\n",
              "      <td>0</td>\n",
              "      <td>0</td>\n",
              "      <td>2</td>\n",
              "      <td>0</td>\n",
              "      <td>2</td>\n",
              "    </tr>\n",
              "    <tr>\n",
              "      <th>3</th>\n",
              "      <td>3</td>\n",
              "      <td>3</td>\n",
              "      <td>0</td>\n",
              "      <td>0</td>\n",
              "      <td>1</td>\n",
              "      <td>1</td>\n",
              "      <td>2</td>\n",
              "    </tr>\n",
              "    <tr>\n",
              "      <th>4</th>\n",
              "      <td>3</td>\n",
              "      <td>3</td>\n",
              "      <td>0</td>\n",
              "      <td>0</td>\n",
              "      <td>1</td>\n",
              "      <td>2</td>\n",
              "      <td>2</td>\n",
              "    </tr>\n",
              "  </tbody>\n",
              "</table>\n",
              "</div>"
            ],
            "text/plain": [
              "   Buying  Maintenance  Doors  Persons  Lug-Boot  Safety  Class\n",
              "0       3            3      0        0         2       1      2\n",
              "1       3            3      0        0         2       2      2\n",
              "2       3            3      0        0         2       0      2\n",
              "3       3            3      0        0         1       1      2\n",
              "4       3            3      0        0         1       2      2"
            ]
          },
          "execution_count": 7,
          "metadata": {},
          "output_type": "execute_result"
        }
      ],
      "source": [
        "data.head()"
      ]
    },
    {
      "cell_type": "markdown",
      "metadata": {
        "id": "F5124eZj1xJy"
      },
      "source": [
        "Plotting heatmap of the columns with each other"
      ]
    },
    {
      "cell_type": "code",
      "execution_count": null,
      "metadata": {
        "colab": {
          "base_uri": "https://localhost:8080/",
          "height": 395
        },
        "id": "ikVxnBY21xJy",
        "outputId": "80b92ce0-9ee0-4b73-fd5a-fa8755d19121"
      },
      "outputs": [
        {
          "data": {
            "text/plain": [
              "<matplotlib.axes._subplots.AxesSubplot at 0x7f8ccad20a50>"
            ]
          },
          "execution_count": 26,
          "metadata": {},
          "output_type": "execute_result"
        },
        {
          "data": {
            "image/png": "[encoded data removed]",
            "text/plain": [
              "<Figure size 720x432 with 2 Axes>"
            ]
          },
          "metadata": {
            "needs_background": "light"
          },
          "output_type": "display_data"
        }
      ],
      "source": [
        "fig=plt.figure(figsize=(10,6))\n",
        "sns.heatmap(data.corr(),annot=True)"
      ]
    },
    {
      "cell_type": "code",
      "execution_count": null,
      "metadata": {
        "collapsed": true,
        "id": "Gor_PBz91xJz"
      },
      "outputs": [],
      "source": [
        "X=data[data.columns[:-1]]   #dataframe containing input features\n",
        "y=data['Class'] #output feature to be predicted"
      ]
    },
    {
      "cell_type": "code",
      "execution_count": null,
      "metadata": {
        "colab": {
          "base_uri": "https://localhost:8080/",
          "height": 206
        },
        "id": "ICig8hGF1xJz",
        "outputId": "0f48812e-e159-4e8d-d772-7378438b4394"
      },
      "outputs": [
        {
          "data": {
            "text/html": [
              "<div>\n",
              "<style scoped>\n",
              "    .dataframe tbody tr th:only-of-type {\n",
              "        vertical-align: middle;\n",
              "    }\n",
              "\n",
              "    .dataframe tbody tr th {\n",
              "        vertical-align: top;\n",
              "    }\n",
              "\n",
              "    .dataframe thead th {\n",
              "        text-align: right;\n",
              "    }\n",
              "</style>\n",
              "<table border=\"1\" class=\"dataframe\">\n",
              "  <thead>\n",
              "    <tr style=\"text-align: right;\">\n",
              "      <th></th>\n",
              "      <th>Buying</th>\n",
              "      <th>Maintenance</th>\n",
              "      <th>Doors</th>\n",
              "      <th>Persons</th>\n",
              "      <th>Lug-Boot</th>\n",
              "      <th>Safety</th>\n",
              "    </tr>\n",
              "  </thead>\n",
              "  <tbody>\n",
              "    <tr>\n",
              "      <th>0</th>\n",
              "      <td>3</td>\n",
              "      <td>3</td>\n",
              "      <td>0</td>\n",
              "      <td>0</td>\n",
              "      <td>2</td>\n",
              "      <td>1</td>\n",
              "    </tr>\n",
              "    <tr>\n",
              "      <th>1</th>\n",
              "      <td>3</td>\n",
              "      <td>3</td>\n",
              "      <td>0</td>\n",
              "      <td>0</td>\n",
              "      <td>2</td>\n",
              "      <td>2</td>\n",
              "    </tr>\n",
              "    <tr>\n",
              "      <th>2</th>\n",
              "      <td>3</td>\n",
              "      <td>3</td>\n",
              "      <td>0</td>\n",
              "      <td>0</td>\n",
              "      <td>2</td>\n",
              "      <td>0</td>\n",
              "    </tr>\n",
              "    <tr>\n",
              "      <th>3</th>\n",
              "      <td>3</td>\n",
              "      <td>3</td>\n",
              "      <td>0</td>\n",
              "      <td>0</td>\n",
              "      <td>1</td>\n",
              "      <td>1</td>\n",
              "    </tr>\n",
              "    <tr>\n",
              "      <th>4</th>\n",
              "      <td>3</td>\n",
              "      <td>3</td>\n",
              "      <td>0</td>\n",
              "      <td>0</td>\n",
              "      <td>1</td>\n",
              "      <td>2</td>\n",
              "    </tr>\n",
              "  </tbody>\n",
              "</table>\n",
              "</div>"
            ],
            "text/plain": [
              "   Buying  Maintenance  Doors  Persons  Lug-Boot  Safety\n",
              "0       3            3      0        0         2       1\n",
              "1       3            3      0        0         2       2\n",
              "2       3            3      0        0         2       0\n",
              "3       3            3      0        0         1       1\n",
              "4       3            3      0        0         1       2"
            ]
          },
          "execution_count": 9,
          "metadata": {},
          "output_type": "execute_result"
        }
      ],
      "source": [
        "X.head()"
      ]
    },
    {
      "cell_type": "code",
      "execution_count": null,
      "metadata": {
        "colab": {
          "base_uri": "https://localhost:8080/"
        },
        "id": "UsJeC6h8pv68",
        "outputId": "bcdba075-93fa-433b-94a3-476f8c7c7db3"
      },
      "outputs": [
        {
          "data": {
            "text/plain": [
              "0    2\n",
              "1    2\n",
              "2    2\n",
              "3    2\n",
              "4    2\n",
              "Name: Class, dtype: int64"
            ]
          },
          "execution_count": 10,
          "metadata": {},
          "output_type": "execute_result"
        }
      ],
      "source": [
        "y.head()"
      ]
    },
    {
      "cell_type": "markdown",
      "metadata": {
        "id": "iA7PQsjD1xJz"
      },
      "source": [
        "Split data into train and test sets"
      ]
    },
    {
      "cell_type": "code",
      "execution_count": null,
      "metadata": {
        "collapsed": true,
        "id": "DC94amoD1xJz"
      },
      "outputs": [],
      "source": [
        "from sklearn.model_selection import train_test_split\n",
        "X_train, X_test, y_train, y_test = train_test_split(X, y, test_size=0.3, random_state=42)"
      ]
    },
    {
      "cell_type": "markdown",
      "metadata": {
        "id": "DnglhsUK1xJ0"
      },
      "source": [
        "Importing modules for different models"
      ]
    },
    {
      "cell_type": "code",
      "execution_count": null,
      "metadata": {
        "collapsed": true,
        "id": "cccb129l1xJ0"
      },
      "outputs": [],
      "source": [
        "from sklearn.linear_model import LogisticRegression\n",
        "from sklearn.model_selection import train_test_split,cross_val_score\n",
        "from sklearn.metrics import classification_report, confusion_matrix\n",
        "from sklearn.neighbors import KNeighborsClassifier\n",
        "from sklearn.model_selection import GridSearchCV , learning_curve"
      ]
    },
    {
      "cell_type": "markdown",
      "metadata": {
        "id": "pyjM8YMB1xJ0"
      },
      "source": [
        "### **Logistic Regression**"
      ]
    },
    {
      "cell_type": "code",
      "execution_count": null,
      "metadata": {
        "collapsed": true,
        "id": "fp-nukg31xJ0"
      },
      "outputs": [],
      "source": [
        "logreg=LogisticRegression(solver='newton-cg',multi_class='multinomial')"
      ]
    },
    {
      "cell_type": "code",
      "execution_count": null,
      "metadata": {
        "colab": {
          "base_uri": "https://localhost:8080/"
        },
        "id": "o_sHEENn1xJ1",
        "outputId": "327371a3-6ffe-47e2-d1e7-435e9f3b0b77"
      },
      "outputs": [
        {
          "data": {
            "text/plain": [
              "LogisticRegression(C=1.0, class_weight=None, dual=False, fit_intercept=True,\n",
              "                   intercept_scaling=1, l1_ratio=None, max_iter=100,\n",
              "                   multi_class='multinomial', n_jobs=None, penalty='l2',\n",
              "                   random_state=None, solver='newton-cg', tol=0.0001, verbose=0,\n",
              "                   warm_start=False)"
            ]
          },
          "execution_count": 35,
          "metadata": {},
          "output_type": "execute_result"
        }
      ],
      "source": [
        "logreg.fit(X_train,y_train)"
      ]
    },
    {
      "cell_type": "code",
      "execution_count": null,
      "metadata": {
        "collapsed": true,
        "id": "yWqV3_s71xJ1"
      },
      "outputs": [],
      "source": [
        "pred=logreg.predict(X_test)\n"
      ]
    },
    {
      "cell_type": "code",
      "execution_count": null,
      "metadata": {
        "colab": {
          "base_uri": "https://localhost:8080/"
        },
        "id": "t3Ja6JOi1xJ1",
        "outputId": "e4430c44-ab8f-4200-f14f-4b4084dff97e"
      },
      "outputs": [
        {
          "data": {
            "text/plain": [
              "0.6647398843930635"
            ]
          },
          "execution_count": 37,
          "metadata": {},
          "output_type": "execute_result"
        }
      ],
      "source": [
        "logreg.score(X_test,y_test)"
      ]
    },
    {
      "cell_type": "markdown",
      "metadata": {
        "id": "oVXF88-q1xJ1"
      },
      "source": [
        "The basic logistic regression model gives very less accuracy.We now check the learning curve."
      ]
    },
    {
      "cell_type": "code",
      "execution_count": null,
      "metadata": {
        "colab": {
          "base_uri": "https://localhost:8080/",
          "height": 283
        },
        "id": "T8WWWq2DqtJU",
        "outputId": "63c3c8c3-180d-4caa-8702-77dc23b18c5a"
      },
      "outputs": [
        {
          "data": {
            "text/plain": [
              "<matplotlib.legend.Legend at 0x7f8cbf889710>"
            ]
          },
          "execution_count": 39,
          "metadata": {},
          "output_type": "execute_result"
        },
        {
          "data": {
            "image/png": "[encoded data removed]",
            "text/plain": [
              "<Figure size 288x288 with 1 Axes>"
            ]
          },
          "metadata": {
            "needs_background": "light"
          },
          "output_type": "display_data"
        }
      ],
      "source": [
        "lc=learning_curve(logreg,X_train,y_train,cv=10,n_jobs=-1)\n",
        "size=lc[0]\n",
        "train_score=[lc[1][i].mean() for i in range (0,5)]\n",
        "test_score=[lc[2][i].mean() for i in range (0,5)]\n",
        "fig=plt.figure(figsize=(4,4))\n",
        "plt.plot(size,train_score,color=\"red\",label=\"Training Score\")\n",
        "plt.plot(size,test_score,color=\"blue\",label=\"Testing Score\")\n",
        "plt.legend()"
      ]
    },
    {
      "cell_type": "markdown",
      "metadata": {
        "id": "0WYD0GknrA9X"
      },
      "source": [
        "Train accuracy is decreasing with increasing sample size. This is not a good model for this dataset."
      ]
    },
    {
      "cell_type": "markdown",
      "metadata": {
        "id": "fpcFuD8P1xJ3"
      },
      "source": [
        "Performing Grid Search to get best parameters"
      ]
    },
    {
      "cell_type": "code",
      "execution_count": null,
      "metadata": {
        "collapsed": true,
        "id": "Vxjlz7nX1xJ3"
      },
      "outputs": [],
      "source": [
        "param_grid={'C':[0.01,0.1,1,10],\n",
        "           'solver':['newton-cg', 'lbfgs', 'sag'],\n",
        "           'multi_class':['multinomial']}\n",
        "grid=GridSearchCV(estimator=LogisticRegression(n_jobs=-1),param_grid=param_grid,cv=5,n_jobs=-1)\n"
      ]
    },
    {
      "cell_type": "code",
      "execution_count": null,
      "metadata": {
        "colab": {
          "base_uri": "https://localhost:8080/"
        },
        "id": "iskXB0I01xJ3",
        "outputId": "a9c78c9d-479d-47a7-e3c6-8410abc50d44"
      },
      "outputs": [
        {
          "data": {
            "text/plain": [
              "GridSearchCV(cv=5, error_score=nan,\n",
              "             estimator=LogisticRegression(C=1.0, class_weight=None, dual=False,\n",
              "                                          fit_intercept=True,\n",
              "                                          intercept_scaling=1, l1_ratio=None,\n",
              "                                          max_iter=100, multi_class='auto',\n",
              "                                          n_jobs=-1, penalty='l2',\n",
              "                                          random_state=None, solver='lbfgs',\n",
              "                                          tol=0.0001, verbose=0,\n",
              "                                          warm_start=False),\n",
              "             iid='deprecated', n_jobs=-1,\n",
              "             param_grid={'C': [0.01, 0.1, 1, 10],\n",
              "                         'multi_class': ['multinomial'],\n",
              "                         'solver': ['newton-cg', 'lbfgs', 'sag']},\n",
              "             pre_dispatch='2*n_jobs', refit=True, return_train_score=False,\n",
              "             scoring=None, verbose=0)"
            ]
          },
          "execution_count": 41,
          "metadata": {},
          "output_type": "execute_result"
        }
      ],
      "source": [
        "grid.fit(X_train,y_train)"
      ]
    },
    {
      "cell_type": "code",
      "execution_count": null,
      "metadata": {
        "colab": {
          "base_uri": "https://localhost:8080/"
        },
        "id": "EkmmXMzj1xJ3",
        "outputId": "22f96564-1249-40db-a5bf-46c4e8ddbd2d"
      },
      "outputs": [
        {
          "name": "stdout",
          "output_type": "stream",
          "text": [
            "{'C': 0.01, 'multi_class': 'multinomial', 'solver': 'newton-cg'}\n",
            "0.7096807379719489\n"
          ]
        }
      ],
      "source": [
        "print(grid.best_params_)\n",
        "print(grid.best_score_)"
      ]
    },
    {
      "cell_type": "markdown",
      "metadata": {
        "collapsed": true,
        "id": "slEjZTiv1xJ4"
      },
      "source": [
        "The accuracy increases a little but is still not satisfactory. So we try other models."
      ]
    },
    {
      "cell_type": "markdown",
      "metadata": {
        "id": "k8PUyOkI1xJ4"
      },
      "source": [
        "### **KNN Classifier**"
      ]
    },
    {
      "cell_type": "code",
      "execution_count": null,
      "metadata": {
        "collapsed": true,
        "id": "F-cW9XSO1xJ4"
      },
      "outputs": [],
      "source": [
        "knn=KNeighborsClassifier(n_jobs=-1)"
      ]
    },
    {
      "cell_type": "code",
      "execution_count": null,
      "metadata": {
        "colab": {
          "base_uri": "https://localhost:8080/"
        },
        "id": "Y9xfQp201xJ4",
        "outputId": "1222d7e9-05ad-4bb4-eff6-65e527a41806"
      },
      "outputs": [
        {
          "data": {
            "text/plain": [
              "0.9017341040462428"
            ]
          },
          "execution_count": 44,
          "metadata": {},
          "output_type": "execute_result"
        }
      ],
      "source": [
        "knn.fit(X_train,y_train)\n",
        "pred=knn.predict(X_test)\n",
        "knn.score(X_test,y_test)\n"
      ]
    },
    {
      "cell_type": "code",
      "execution_count": null,
      "metadata": {
        "colab": {
          "base_uri": "https://localhost:8080/"
        },
        "id": "ks_Pb2tK1xJ4",
        "outputId": "4eb98957-17f0-4341-e23b-59c2c5dc8261"
      },
      "outputs": [
        {
          "name": "stdout",
          "output_type": "stream",
          "text": [
            "              precision    recall  f1-score   support\n",
            "\n",
            "           0       0.82      0.79      0.80       118\n",
            "           1       0.77      0.53      0.62        19\n",
            "           2       0.93      0.99      0.96       358\n",
            "           3       1.00      0.50      0.67        24\n",
            "\n",
            "    accuracy                           0.90       519\n",
            "   macro avg       0.88      0.70      0.76       519\n",
            "weighted avg       0.90      0.90      0.90       519\n",
            "\n"
          ]
        }
      ],
      "source": [
        "print(classification_report(y_test,pred))"
      ]
    },
    {
      "cell_type": "markdown",
      "metadata": {
        "id": "cvcQEQVWrktB"
      },
      "source": [
        "The default KNN model gives 90% and better F-1 score so this is better than previous model."
      ]
    },
    {
      "cell_type": "markdown",
      "metadata": {
        "id": "8f_NWtoo1xJ5"
      },
      "source": [
        "Performing Grid Search to get best parameters"
      ]
    },
    {
      "cell_type": "code",
      "execution_count": null,
      "metadata": {
        "id": "glmr00SiaKDX"
      },
      "outputs": [],
      "source": [
        "param_grid={\n",
        "    'n_neighbors':[3,4,5,6,7,8,9],\n",
        "    'weights': ['uniform', 'distance'],\n",
        "    'algorithm': ['auto', 'ball_tree', 'kd_tree', 'brute']\n",
        "    }\n",
        "grid=GridSearchCV(estimator=KNeighborsClassifier(),param_grid=param_grid)\n"
      ]
    },
    {
      "cell_type": "code",
      "execution_count": null,
      "metadata": {
        "colab": {
          "base_uri": "https://localhost:8080/"
        },
        "id": "LqRUHfipblZz",
        "outputId": "8a203611-e864-462a-aa37-1b5cbc36f611"
      },
      "outputs": [
        {
          "data": {
            "text/plain": [
              "GridSearchCV(cv=None, error_score=nan,\n",
              "             estimator=KNeighborsClassifier(algorithm='auto', leaf_size=30,\n",
              "                                            metric='minkowski',\n",
              "                                            metric_params=None, n_jobs=None,\n",
              "                                            n_neighbors=5, p=2,\n",
              "                                            weights='uniform'),\n",
              "             iid='deprecated', n_jobs=None,\n",
              "             param_grid={'algorithm': ['auto', 'ball_tree', 'kd_tree', 'brute'],\n",
              "                         'n_neighbors': [3, 4, 5, 6, 7, 8, 9],\n",
              "                         'weights': ['uniform', 'distance']},\n",
              "             pre_dispatch='2*n_jobs', refit=True, return_train_score=False,\n",
              "             scoring=None, verbose=0)"
            ]
          },
          "execution_count": 46,
          "metadata": {},
          "output_type": "execute_result"
        }
      ],
      "source": [
        "grid.fit(X_train,y_train)"
      ]
    },
    {
      "cell_type": "code",
      "execution_count": null,
      "metadata": {
        "colab": {
          "base_uri": "https://localhost:8080/"
        },
        "id": "mi3L3Knzbomo",
        "outputId": "5f0aed70-1303-4e17-8e98-14c5aaf57a40"
      },
      "outputs": [
        {
          "name": "stdout",
          "output_type": "stream",
          "text": [
            "{'algorithm': 'auto', 'n_neighbors': 6, 'weights': 'distance'}\n",
            "0.905709680737972\n"
          ]
        }
      ],
      "source": [
        "print(grid.best_params_)\n",
        "print(grid.best_score_)"
      ]
    },
    {
      "cell_type": "markdown",
      "metadata": {
        "id": "EhxpBfRQsrnD"
      },
      "source": [
        "Fitting model for Test Set"
      ]
    },
    {
      "cell_type": "code",
      "execution_count": null,
      "metadata": {
        "colab": {
          "base_uri": "https://localhost:8080/"
        },
        "id": "ixxu7oc1oB0g",
        "outputId": "7ebb7f33-2463-4c1e-c6c0-029a267969fb"
      },
      "outputs": [
        {
          "name": "stdout",
          "output_type": "stream",
          "text": [
            "              precision    recall  f1-score   support\n",
            "\n",
            "           0       0.85      0.81      0.83       118\n",
            "           1       1.00      0.58      0.73        19\n",
            "           2       0.94      0.98      0.96       358\n",
            "           3       0.90      0.75      0.82        24\n",
            "\n",
            "    accuracy                           0.92       519\n",
            "   macro avg       0.92      0.78      0.83       519\n",
            "weighted avg       0.92      0.92      0.91       519\n",
            "\n"
          ]
        }
      ],
      "source": [
        "pred=grid.predict(X_test)\n",
        "print(classification_report(y_test,pred))"
      ]
    },
    {
      "cell_type": "markdown",
      "metadata": {
        "id": "CcH3Jncp1xJ6"
      },
      "source": [
        "KNN gives accuracy around 90.57%."
      ]
    },
    {
      "cell_type": "markdown",
      "metadata": {
        "id": "WCr3qOMtttFQ"
      },
      "source": [
        "### **SVM**"
      ]
    },
    {
      "cell_type": "code",
      "execution_count": null,
      "metadata": {
        "colab": {
          "base_uri": "https://localhost:8080/"
        },
        "id": "8BgDqMqJtslc",
        "outputId": "bd4b7cbd-128d-47ae-c333-ec49f8fbbcbb"
      },
      "outputs": [
        {
          "data": {
            "text/plain": [
              "0.8940269749518305"
            ]
          },
          "execution_count": 13,
          "metadata": {},
          "output_type": "execute_result"
        }
      ],
      "source": [
        "from sklearn.svm import SVC\n",
        "svc = SVC()\n",
        "svc.fit(X_train,y_train)\n",
        "pred=svc.predict(X_test)\n",
        "svc.score(X_test,y_test)"
      ]
    },
    {
      "cell_type": "markdown",
      "metadata": {
        "id": "Tc7pm2g1-kqc"
      },
      "source": [
        "Grid Search for best parameters"
      ]
    },
    {
      "cell_type": "code",
      "execution_count": null,
      "metadata": {
        "id": "wEk2aQ5VuBzz"
      },
      "outputs": [],
      "source": [
        "param_grid={\n",
        "    'C': [0.01,0.1,1,10,100],\n",
        "    'kernel': ['linear', 'poly', 'rbf', 'sigmoid'],\n",
        "    'degree': [2,3,5,7,10]\n",
        "    }"
      ]
    },
    {
      "cell_type": "code",
      "execution_count": null,
      "metadata": {
        "colab": {
          "base_uri": "https://localhost:8080/"
        },
        "id": "lKS7NB9Nu6GB",
        "outputId": "d816bc2e-b678-4d55-8e3b-5b630d86468c"
      },
      "outputs": [
        {
          "data": {
            "text/plain": [
              "GridSearchCV(cv=None, error_score=nan,\n",
              "             estimator=SVC(C=1.0, break_ties=False, cache_size=200,\n",
              "                           class_weight=None, coef0=0.0,\n",
              "                           decision_function_shape='ovr', degree=3,\n",
              "                           gamma='scale', kernel='rbf', max_iter=-1,\n",
              "                           probability=False, random_state=42, shrinking=True,\n",
              "                           tol=0.001, verbose=False),\n",
              "             iid='deprecated', n_jobs=None,\n",
              "             param_grid={'C': [0.01, 0.1, 1, 10, 100],\n",
              "                         'degree': [2, 3, 5, 7, 10],\n",
              "                         'kernel': ['linear', 'poly', 'rbf', 'sigmoid']},\n",
              "             pre_dispatch='2*n_jobs', refit=True, return_train_score=False,\n",
              "             scoring=None, verbose=0)"
            ]
          },
          "execution_count": 15,
          "metadata": {},
          "output_type": "execute_result"
        }
      ],
      "source": [
        "grid_svm=GridSearchCV(estimator=SVC(random_state=42),param_grid=param_grid)\n",
        "grid_svm.fit(X_train,y_train)"
      ]
    },
    {
      "cell_type": "code",
      "execution_count": null,
      "metadata": {
        "colab": {
          "base_uri": "https://localhost:8080/"
        },
        "id": "J_bP9mKbvIVx",
        "outputId": "24a70e65-45c4-4b5f-94cf-c7c1c1bce38e"
      },
      "outputs": [
        {
          "name": "stdout",
          "output_type": "stream",
          "text": [
            "{'C': 100, 'degree': 2, 'kernel': 'rbf'}\n",
            "0.989245910634066\n"
          ]
        }
      ],
      "source": [
        "print(grid_svm.best_params_)\n",
        "print(grid_svm.best_score_)"
      ]
    },
    {
      "cell_type": "code",
      "execution_count": null,
      "metadata": {
        "colab": {
          "base_uri": "https://localhost:8080/"
        },
        "id": "yVQghsT0vLGC",
        "outputId": "866054db-9999-4075-e054-efed2b07d17d"
      },
      "outputs": [
        {
          "name": "stdout",
          "output_type": "stream",
          "text": [
            "              precision    recall  f1-score   support\n",
            "\n",
            "           0       0.98      0.97      0.97       118\n",
            "           1       0.82      0.95      0.88        19\n",
            "           2       1.00      1.00      1.00       358\n",
            "           3       0.96      0.92      0.94        24\n",
            "\n",
            "    accuracy                           0.99       519\n",
            "   macro avg       0.94      0.96      0.95       519\n",
            "weighted avg       0.99      0.99      0.99       519\n",
            "\n"
          ]
        }
      ],
      "source": [
        "pred_svm=grid_svm.predict(X_test)\n",
        "print(classification_report(y_test,pred_svm))"
      ]
    },
    {
      "cell_type": "markdown",
      "metadata": {
        "id": "bWWEoXVFbEVg"
      },
      "source": [
        "Accuracy is around 98.92% for SVM"
      ]
    },
    {
      "cell_type": "markdown",
      "metadata": {
        "id": "H-pBLy8Chknc"
      },
      "source": [
        "### **Decision Tree**"
      ]
    },
    {
      "cell_type": "code",
      "execution_count": null,
      "metadata": {
        "colab": {
          "base_uri": "https://localhost:8080/"
        },
        "id": "JX3DSrCyhntJ",
        "outputId": "e30770eb-fc4f-49b5-98ef-58768c2f4295"
      },
      "outputs": [
        {
          "data": {
            "text/plain": [
              "0.9710982658959537"
            ]
          },
          "execution_count": 23,
          "metadata": {},
          "output_type": "execute_result"
        }
      ],
      "source": [
        "from sklearn.tree import DecisionTreeClassifier\n",
        "dtree = DecisionTreeClassifier()\n",
        "dtree.fit(X_train,y_train)\n",
        "pred=dtree.predict(X_test)\n",
        "dtree.score(X_test,y_test)"
      ]
    },
    {
      "cell_type": "code",
      "execution_count": null,
      "metadata": {
        "colab": {
          "base_uri": "https://localhost:8080/"
        },
        "id": "_CvI06f6jV8F",
        "outputId": "5e2b2920-aea7-4454-ac48-466a35eb98ca"
      },
      "outputs": [
        {
          "data": {
            "text/plain": [
              "{'ccp_alpha': 0.0,\n",
              " 'class_weight': None,\n",
              " 'criterion': 'gini',\n",
              " 'max_depth': None,\n",
              " 'max_features': None,\n",
              " 'max_leaf_nodes': None,\n",
              " 'min_impurity_decrease': 0.0,\n",
              " 'min_impurity_split': None,\n",
              " 'min_samples_leaf': 1,\n",
              " 'min_samples_split': 2,\n",
              " 'min_weight_fraction_leaf': 0.0,\n",
              " 'presort': 'deprecated',\n",
              " 'random_state': None,\n",
              " 'splitter': 'best'}"
            ]
          },
          "execution_count": 66,
          "metadata": {},
          "output_type": "execute_result"
        }
      ],
      "source": [
        "dtree.get_depth()\n",
        "dtree.get_params()"
      ]
    },
    {
      "cell_type": "markdown",
      "metadata": {
        "id": "GEgXMvEMiOso"
      },
      "source": [
        "Default accuracy for DecisionTreeClassifier is 97.10%"
      ]
    },
    {
      "cell_type": "markdown",
      "metadata": {
        "id": "irkS2beXiNfn"
      },
      "source": [
        "Performing grid search to get best parameters"
      ]
    },
    {
      "cell_type": "code",
      "execution_count": null,
      "metadata": {
        "id": "p7fGO6j5ibZy"
      },
      "outputs": [],
      "source": [
        "param_grid={'criterion':['gini','entropy'],\n",
        "           'max_depth':[2,5,10,14,20],\n",
        "           'max_features':['auto', 'sqrt', 'log2',None],\n",
        "           'max_leaf_nodes':[2,3,None]}"
      ]
    },
    {
      "cell_type": "code",
      "execution_count": null,
      "metadata": {
        "id": "CAmLhGH2ix3d"
      },
      "outputs": [],
      "source": [
        "grid_dt=GridSearchCV(estimator=DecisionTreeClassifier(random_state=51),\n",
        "                  param_grid=param_grid)"
      ]
    },
    {
      "cell_type": "code",
      "execution_count": null,
      "metadata": {
        "colab": {
          "base_uri": "https://localhost:8080/"
        },
        "id": "KoDjLiejjAdt",
        "outputId": "d417fbfd-329a-4119-cd8c-36583166aad3"
      },
      "outputs": [
        {
          "data": {
            "text/plain": [
              "GridSearchCV(cv=None, error_score=nan,\n",
              "             estimator=DecisionTreeClassifier(ccp_alpha=0.0, class_weight=None,\n",
              "                                              criterion='gini', max_depth=None,\n",
              "                                              max_features=None,\n",
              "                                              max_leaf_nodes=None,\n",
              "                                              min_impurity_decrease=0.0,\n",
              "                                              min_impurity_split=None,\n",
              "                                              min_samples_leaf=1,\n",
              "                                              min_samples_split=2,\n",
              "                                              min_weight_fraction_leaf=0.0,\n",
              "                                              presort='deprecated',\n",
              "                                              random_state=51,\n",
              "                                              splitter='best'),\n",
              "             iid='deprecated', n_jobs=None,\n",
              "             param_grid={'criterion': ['gini', 'entropy'],\n",
              "                         'max_depth': [2, 5, 10, 14, 20],\n",
              "                         'max_features': ['auto', 'sqrt', 'log2', None],\n",
              "                         'max_leaf_nodes': [2, 3, None]},\n",
              "             pre_dispatch='2*n_jobs', refit=True, return_train_score=False,\n",
              "             scoring=None, verbose=0)"
            ]
          },
          "execution_count": 73,
          "metadata": {},
          "output_type": "execute_result"
        }
      ],
      "source": [
        "grid_dt.fit(X_train,y_train)"
      ]
    },
    {
      "cell_type": "code",
      "execution_count": null,
      "metadata": {
        "colab": {
          "base_uri": "https://localhost:8080/"
        },
        "id": "Q6Pf4iuvjE-t",
        "outputId": "9757a819-3c00-49e1-9146-8acaa22c1ef8"
      },
      "outputs": [
        {
          "name": "stdout",
          "output_type": "stream",
          "text": [
            "{'criterion': 'gini', 'max_depth': 14, 'max_features': None, 'max_leaf_nodes': None}\n",
            "0.974349302150132\n"
          ]
        }
      ],
      "source": [
        "print(grid_dt.best_params_)\n",
        "print(grid_dt.best_score_)"
      ]
    },
    {
      "cell_type": "code",
      "execution_count": null,
      "metadata": {
        "colab": {
          "base_uri": "https://localhost:8080/"
        },
        "id": "N5HLRYCHoQPo",
        "outputId": "cb78edb2-7d71-4648-f78a-d01404de70a5"
      },
      "outputs": [
        {
          "name": "stdout",
          "output_type": "stream",
          "text": [
            "              precision    recall  f1-score   support\n",
            "\n",
            "           0       0.93      0.94      0.94       118\n",
            "           1       0.71      0.89      0.79        19\n",
            "           2       1.00      0.99      0.99       358\n",
            "           3       0.90      0.79      0.84        24\n",
            "\n",
            "    accuracy                           0.97       519\n",
            "   macro avg       0.89      0.90      0.89       519\n",
            "weighted avg       0.97      0.97      0.97       519\n",
            "\n"
          ]
        }
      ],
      "source": [
        "pred_dt=grid_dt.predict(X_test)\n",
        "print(classification_report(y_test,pred_dt))\n"
      ]
    },
    {
      "cell_type": "code",
      "execution_count": null,
      "metadata": {
        "colab": {
          "base_uri": "https://localhost:8080/"
        },
        "id": "i7r5P_3zZ7Rp",
        "outputId": "c3de29c2-9bdc-4ab4-b306-3891720c9ff0"
      },
      "outputs": [
        {
          "name": "stdout",
          "output_type": "stream",
          "text": [
            "              precision    recall  f1-score   support\n",
            "\n",
            "           0       0.98      0.98      0.98       312\n",
            "           1       0.91      0.97      0.94        69\n",
            "           2       1.00      1.00      1.00       850\n",
            "           3       0.97      0.92      0.94        65\n",
            "\n",
            "    accuracy                           0.99      1296\n",
            "   macro avg       0.96      0.97      0.96      1296\n",
            "weighted avg       0.99      0.99      0.99      1296\n",
            "\n"
          ]
        }
      ],
      "source": [
        "pred_dt=grid_dt.predict(X_train)\n",
        "print(classification_report(y_train,pred_dt))"
      ]
    },
    {
      "cell_type": "markdown",
      "metadata": {
        "id": "a4KRZoPykcaX"
      },
      "source": [
        "Here the improved accuracy comes out to be 97.43%"
      ]
    },
    {
      "cell_type": "markdown",
      "metadata": {
        "id": "Iho_wh7x9K9X"
      },
      "source": [
        "We now plot the learning curve."
      ]
    },
    {
      "cell_type": "code",
      "execution_count": null,
      "metadata": {
        "colab": {
          "base_uri": "https://localhost:8080/",
          "height": 337
        },
        "id": "g2992v538bDO",
        "outputId": "e5744e61-a5c3-4804-e563-a59e0a17c978"
      },
      "outputs": [
        {
          "data": {
            "text/plain": [
              "<matplotlib.legend.Legend at 0x7f8ce3bf0d50>"
            ]
          },
          "execution_count": 79,
          "metadata": {},
          "output_type": "execute_result"
        },
        {
          "data": {
            "image/png": "[encoded data removed]",
            "text/plain": [
              "<Figure size 360x360 with 1 Axes>"
            ]
          },
          "metadata": {
            "needs_background": "light"
          },
          "output_type": "display_data"
        }
      ],
      "source": [
        "from sklearn.model_selection import learning_curve\n",
        "lc=learning_curve(grid_dt,X_train,y_train,cv=10,n_jobs=-1)\n",
        "size=lc[0]\n",
        "train_score=[lc[1][i].mean() for i in range (0,5)]\n",
        "test_score=[lc[2][i].mean() for i in range (0,5)]\n",
        "fig=plt.figure(figsize=(5,5))\n",
        "plt.plot(size,train_score,label=\"Train Score\")\n",
        "plt.plot(size,test_score,label=\"Test Score\")\n",
        "plt.legend(loc='lower right')"
      ]
    },
    {
      "cell_type": "markdown",
      "metadata": {
        "collapsed": true,
        "id": "qbjbk5Gl1xJ6"
      },
      "source": [
        "### **Random Forest Classifier**"
      ]
    },
    {
      "cell_type": "code",
      "execution_count": null,
      "metadata": {
        "collapsed": true,
        "id": "ZEZNcDIX1xJ6"
      },
      "outputs": [],
      "source": [
        "from sklearn.ensemble import RandomForestClassifier\n",
        "from sklearn.metrics import f1_score"
      ]
    },
    {
      "cell_type": "code",
      "execution_count": null,
      "metadata": {
        "collapsed": true,
        "id": "yiDqz-Z41xJ6"
      },
      "outputs": [],
      "source": [
        "rfc=RandomForestClassifier(n_jobs=-1,random_state=51)"
      ]
    },
    {
      "cell_type": "code",
      "execution_count": null,
      "metadata": {
        "colab": {
          "base_uri": "https://localhost:8080/"
        },
        "id": "qlkGBfv71xJ6",
        "outputId": "8e64c8ce-441a-4d7a-e077-c8f103d95305"
      },
      "outputs": [
        {
          "name": "stdout",
          "output_type": "stream",
          "text": [
            "Accuracy:  0.9730250481695568\n",
            "F1 Score:  0.9245337130459484\n"
          ]
        }
      ],
      "source": [
        "rfc.fit(X_train,y_train)\n",
        "print(\"Accuracy: \",rfc.score(X_test,y_test))\n",
        "print(\"F1 Score: \",f1_score(y_test,rfc.predict(X_test),average='macro'))"
      ]
    },
    {
      "cell_type": "markdown",
      "metadata": {
        "id": "4aPxi3OK1xJ7"
      },
      "source": [
        "Basic RFC model is giving around 97.3% accuracy"
      ]
    },
    {
      "cell_type": "markdown",
      "metadata": {
        "id": "xSxJk1W-uWEC"
      },
      "source": [
        "Performing grid search to get best parameters"
      ]
    },
    {
      "cell_type": "code",
      "execution_count": null,
      "metadata": {
        "collapsed": true,
        "id": "2MBjFLqT1xJ8"
      },
      "outputs": [],
      "source": [
        "param_grid={'criterion':['gini','entropy'],\n",
        "           'max_depth':[2,5,10,20],\n",
        "           'max_features':['auto', 'sqrt', 'log2',None],\n",
        "           'max_leaf_nodes':[2,3,None]}"
      ]
    },
    {
      "cell_type": "code",
      "execution_count": null,
      "metadata": {
        "collapsed": true,
        "id": "EL05sAzV1xJ8"
      },
      "outputs": [],
      "source": [
        "grid=GridSearchCV(estimator=RandomForestClassifier(n_estimators=50,n_jobs=-1,random_state=51),\n",
        "                  param_grid=param_grid,cv=10,n_jobs=-1)"
      ]
    },
    {
      "cell_type": "code",
      "execution_count": null,
      "metadata": {
        "colab": {
          "base_uri": "https://localhost:8080/"
        },
        "id": "9a3hyrQf1xJ8",
        "outputId": "316e50f0-0869-4f1a-96bd-055dee181189"
      },
      "outputs": [
        {
          "data": {
            "text/plain": [
              "GridSearchCV(cv=10, error_score=nan,\n",
              "             estimator=RandomForestClassifier(bootstrap=True, ccp_alpha=0.0,\n",
              "                                              class_weight=None,\n",
              "                                              criterion='gini', max_depth=None,\n",
              "                                              max_features='auto',\n",
              "                                              max_leaf_nodes=None,\n",
              "                                              max_samples=None,\n",
              "                                              min_impurity_decrease=0.0,\n",
              "                                              min_impurity_split=None,\n",
              "                                              min_samples_leaf=1,\n",
              "                                              min_samples_split=2,\n",
              "                                              min_weight_fraction_leaf=0.0,\n",
              "                                              n_estimators=50, n_jobs=-1,\n",
              "                                              oob_score=False, random_state=51,\n",
              "                                              verbose=0, warm_start=False),\n",
              "             iid='deprecated', n_jobs=-1,\n",
              "             param_grid={'criterion': ['gini', 'entropy'],\n",
              "                         'max_depth': [2, 5, 10, 20],\n",
              "                         'max_features': ['auto', 'sqrt', 'log2', None],\n",
              "                         'max_leaf_nodes': [2, 3, None]},\n",
              "             pre_dispatch='2*n_jobs', refit=True, return_train_score=False,\n",
              "             scoring=None, verbose=0)"
            ]
          },
          "execution_count": 62,
          "metadata": {},
          "output_type": "execute_result"
        }
      ],
      "source": [
        "grid.fit(X_train,y_train)"
      ]
    },
    {
      "cell_type": "code",
      "execution_count": null,
      "metadata": {
        "colab": {
          "base_uri": "https://localhost:8080/"
        },
        "id": "7mOvOBca1xJ9",
        "outputId": "2f82c989-ff6e-489f-f1f3-ba7322b7d7bf"
      },
      "outputs": [
        {
          "name": "stdout",
          "output_type": "stream",
          "text": [
            "{'criterion': 'entropy', 'max_depth': 10, 'max_features': None, 'max_leaf_nodes': None}\n",
            "0.9826170798898073\n"
          ]
        }
      ],
      "source": [
        "print(grid.best_params_)\n",
        "print(grid.best_score_)"
      ]
    },
    {
      "cell_type": "code",
      "execution_count": null,
      "metadata": {
        "colab": {
          "base_uri": "https://localhost:8080/"
        },
        "id": "_jn2uE8Pnc3G",
        "outputId": "0ccfb57a-6d17-4ffa-8773-5a42e8ea3e02"
      },
      "outputs": [
        {
          "name": "stdout",
          "output_type": "stream",
          "text": [
            "              precision    recall  f1-score   support\n",
            "\n",
            "           0       0.93      0.90      0.91       118\n",
            "           1       0.63      0.89      0.74        19\n",
            "           2       1.00      0.99      0.99       358\n",
            "           3       0.88      0.88      0.88        24\n",
            "\n",
            "    accuracy                           0.96       519\n",
            "   macro avg       0.86      0.91      0.88       519\n",
            "weighted avg       0.96      0.96      0.96       519\n",
            "\n"
          ]
        }
      ],
      "source": [
        "pred=grid.predict(X_test)\n",
        "print(classification_report(y_test,pred))"
      ]
    },
    {
      "cell_type": "markdown",
      "metadata": {
        "id": "B0lECn5x1xJ9"
      },
      "source": [
        "We have now reached 98.26% accuracy with RFC model"
      ]
    },
    {
      "cell_type": "markdown",
      "metadata": {
        "id": "m46Nhh7-vdH4"
      },
      "source": [
        "### **Voting Classifier**"
      ]
    },
    {
      "cell_type": "code",
      "execution_count": null,
      "metadata": {
        "id": "yrJtCOjIdTvT"
      },
      "outputs": [],
      "source": [
        "from sklearn.ensemble import VotingClassifier\n",
        "\n",
        "rfc=RandomForestClassifier(random_state=42,criterion = 'entropy', max_depth = 10, max_features = 6, max_leaf_nodes = None)\n",
        "knn = KNeighborsClassifier(algorithm = 'auto', n_neighbors = 6, weights = 'distance')\n",
        "dtree = DecisionTreeClassifier(criterion = 'gini', max_depth = 14, max_features = None, max_leaf_nodes = None)\n",
        "svc = SVC(C = 100, degree = 2, kernel = 'rbf',probability=True)\n",
        "ensemble=VotingClassifier(estimators=[('Random Forest', rfc), ('Decision Tree', dtree), ('SVC', svc)],\n",
        "                       voting='soft',weights = [3,3,4]).fit(X_train,y_train)\n"
      ]
    },
    {
      "cell_type": "code",
      "execution_count": null,
      "metadata": {
        "colab": {
          "base_uri": "https://localhost:8080/"
        },
        "id": "uJjYTLgflXnC",
        "outputId": "affcfb67-4b69-4b52-8cd2-cdfa25349ee3"
      },
      "outputs": [
        {
          "name": "stdout",
          "output_type": "stream",
          "text": [
            "0.9730250481695568\n",
            "The accuracy for DecisionTree, Random Forest,SVC and KNN is: 0.9730250481695568\n",
            "              precision    recall  f1-score   support\n",
            "\n",
            "           0       0.94      0.95      0.95       118\n",
            "           1       0.77      0.89      0.83        19\n",
            "           2       1.00      0.99      1.00       358\n",
            "           3       0.91      0.88      0.89        24\n",
            "\n",
            "    accuracy                           0.97       519\n",
            "   macro avg       0.91      0.93      0.92       519\n",
            "weighted avg       0.97      0.97      0.97       519\n",
            "\n"
          ]
        }
      ],
      "source": [
        "print(ensemble.score(X_test,y_test))\n",
        "print('The accuracy for DecisionTree, Random Forest,SVC and KNN is:',ensemble.score(X_test,y_test))\n",
        "pred=ensemble.predict(X_test)\n",
        "print(classification_report(y_test,pred))"
      ]
    },
    {
      "cell_type": "markdown",
      "metadata": {
        "id": "Dj2Oq5w9D5pj"
      },
      "source": [
        "### **Conclusion**"
      ]
    },
    {
      "cell_type": "markdown",
      "metadata": {
        "id": "rKzYBui5UhiO"
      },
      "source": [
        "SVM Classifier is the best suited model for this data as we have best accuracy and F-1 scores for the same.\n",
        "Best parameters are-\n",
        "{'C': 100, 'degree': 2, 'kernel': 'rbf'}\n",
        "*   C: 100\n",
        "*   degree: 2\n",
        "*   kernel: rbf\n",
        "\n",
        "Accuracy achieved is 98.92%."
      ]
    },
    {
      "cell_type": "markdown",
      "metadata": {
        "id": "E8ghYRAp1xJ-"
      },
      "source": [
        "Random Forest Classifier model is also not bad for for this data as we have good accuracy and F-1 scores for the same too.\n",
        "Best parameters are-\n",
        "*   n_estimators: 50\n",
        "*   criterion: entropy\n",
        "*   max_features: None\n",
        "*   max_leaf_nodes: None\n",
        "\n",
        "We are able to achieve 98.26% accuracy with this model"
      ]
    }
  ],
  "metadata": {
    "colab": {
      "provenance": []
    },
    "kernelspec": {
      "display_name": "Python 3",
      "language": "python",
      "name": "python3"
    },
    "language_info": {
      "codemirror_mode": {
        "name": "ipython",
        "version": 3
      },
      "file_extension": ".py",
      "mimetype": "text/x-python",
      "name": "python",
      "nbconvert_exporter": "python",
      "pygments_lexer": "ipython3",
      "version": "3.6.0"
    }
  },
  "nbformat": 4,
  "nbformat_minor": 0
}
